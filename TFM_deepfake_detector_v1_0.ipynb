{
  "nbformat": 4,
  "nbformat_minor": 0,
  "metadata": {
    "colab": {
      "provenance": [],
      "machine_shape": "hm",
      "gpuType": "A100"
    },
    "kernelspec": {
      "name": "python3",
      "display_name": "Python 3"
    },
    "language_info": {
      "name": "python"
    },
    "accelerator": "GPU"
  },
  "cells": [
    {
      "cell_type": "markdown",
      "source": [
        "# **Trabajo de Fin de Máster**\n",
        "## **Máster de Inteligencia Artificial**\n",
        "## **Universidad Internacional de Valencia**"
      ],
      "metadata": {
        "id": "P2TKoNnfO9sT"
      }
    },
    {
      "cell_type": "markdown",
      "source": [
        "\n",
        "\n",
        "**TEMA:** Detección de Deepfakes\\\n",
        "**ALUMNO:** Edgar Roberto Valarezo Vargas\\\n",
        "**DIRECTOR DE TFM:** José Antonio Lagares Rodríguez\n",
        "\n",
        "**CURSO ACADÉMICO:** 2025"
      ],
      "metadata": {
        "id": "YNnwvFDgyVo6"
      }
    },
    {
      "cell_type": "markdown",
      "source": [
        "Este cuaderno de Google Colab contiene el flujo de trabajo del proyecto de detección de deepfakes, mostrando los pasos seguidos para construir un prototipo funcional, documentando tanto la metodología como los resultados obtenidos.\n",
        "\n",
        "A lo largo de las celdas se presentan las fases de preparación del entorno, análisis y preprocesamiento de datos, definición del modelo de red neuronal, entrenamiento y evaluación de métricas de rendimiento."
      ],
      "metadata": {
        "id": "JFHbEa7qQZRh"
      }
    },
    {
      "cell_type": "markdown",
      "source": [
        "# **Carga de librerías**"
      ],
      "metadata": {
        "id": "YE0UNxHXjPvM"
      }
    },
    {
      "cell_type": "code",
      "source": [
        "## Importación de librerías\n",
        "\n",
        "import os, cv2, sys\n",
        "from google.colab import drive\n",
        "from pathlib import Path\n",
        "import argparse # Para el ingreso de parametros desde CLI\n",
        "\n",
        "import random\n",
        "import numpy as np\n",
        "import pandas as pd\n",
        "import matplotlib.pyplot as plt\n",
        "\n",
        "# TensorFlow y Keras para establecer el modelo\n",
        "import tensorflow as tf\n",
        "from tensorflow import keras\n",
        "from tensorflow.keras import layers, regularizers #redes convolucionales\n",
        "from tensorflow.keras.utils import plot_model\n",
        "\n",
        "# Para versiones anteriores de Keras\n",
        "import keras\n",
        "from keras import layers, regularizers, utils\n",
        "\n",
        "# Métricas de sklearn para evaluar: aciertos/errores, curva ROC (puntos y área) y rendimiento\n",
        "from sklearn.metrics import confusion_matrix, roc_curve, auc, precision_score, recall_score, f1_score, accuracy_score, precision_recall_curve, precision_recall_fscore_support"
      ],
      "metadata": {
        "id": "EzAyboSTGtyH"
      },
      "execution_count": null,
      "outputs": []
    },
    {
      "cell_type": "markdown",
      "source": [
        "# **Carga del dataset de imágenes y definición de parámetros globales**"
      ],
      "metadata": {
        "id": "6LQ2ZD0LjIwa"
      }
    },
    {
      "cell_type": "markdown",
      "source": [
        "**Estructura de las carpetas:** \\\n",
        "proyecto\\\n",
        "│\\\n",
        "├─ TFM_deepfake_detector_v1.0.ipynb\\\n",
        "├─ dataset/\\\n",
        "│ &nbsp;&nbsp;&nbsp;&nbsp;&nbsp;&nbsp;├─ train/\\\n",
        "│ &nbsp;&nbsp;&nbsp;&nbsp;&nbsp; │ &nbsp;&nbsp;&nbsp;&nbsp;&nbsp; ├─ real/\\\n",
        "│ &nbsp;&nbsp;&nbsp;&nbsp;&nbsp; │ &nbsp;&nbsp;&nbsp;&nbsp;&nbsp; └─ fake/\\\n",
        "│ &nbsp;&nbsp;&nbsp;&nbsp;&nbsp; ├─ val/\\\n",
        "│ &nbsp;&nbsp;&nbsp;&nbsp;&nbsp; │ &nbsp;&nbsp;&nbsp;&nbsp;&nbsp; ├─ real/\\\n",
        "│ &nbsp;&nbsp;&nbsp;&nbsp;&nbsp; │ &nbsp;&nbsp;&nbsp;&nbsp;&nbsp; └─ fake/\\\n",
        "│ &nbsp;&nbsp;&nbsp;&nbsp;&nbsp; └─ test/\\\n",
        "│  &nbsp;&nbsp;&nbsp;&nbsp;&nbsp; &nbsp;&nbsp;&nbsp;&nbsp;&nbsp;&nbsp;&nbsp;&nbsp;&nbsp;&nbsp;  ├─ real/\\\n",
        "│   &nbsp;&nbsp;&nbsp;&nbsp;&nbsp;&nbsp;&nbsp;&nbsp;&nbsp;&nbsp;&nbsp;&nbsp;&nbsp;&nbsp;&nbsp;&nbsp; └─ fake/\\\n",
        "└─ output/\\\n",
        "&nbsp;&nbsp;&nbsp;&nbsp;&nbsp;&nbsp; &nbsp;&nbsp;&nbsp;  ├─ best_model.keras\\\n",
        "&nbsp;&nbsp;&nbsp;&nbsp;&nbsp;&nbsp;  &nbsp;&nbsp;&nbsp; ├─ last_model.keras\\\n",
        "&nbsp;&nbsp;&nbsp;&nbsp;&nbsp;&nbsp;  &nbsp;&nbsp;&nbsp; └─ gradcam_samples/\n"
      ],
      "metadata": {
        "id": "UhQIJKsfL8QW"
      }
    },
    {
      "cell_type": "code",
      "source": [
        "# Uso de Google Drive como almacenamiento de imágenes para entrenamiento del modelo\n",
        "\n",
        "drive.mount('/content/drive', force_remount=True)\n",
        "\n",
        "# Colocar la ruta dentro de Google drive\n",
        "# ROOT = Path(\"/content/drive/MyDrive/00 VIU-Inteligencia Artificial/000 TFM 2025/03 TFM/Colab\")\n",
        "ROOT = Path(\"/content/drive/\")\n",
        "\n",
        "DATASET_NAME = \"dataset_reduced_v3\"\n",
        "MODEL_NAME = \"output_v8\"\n",
        "OUTPUT_NAME  = \"output_v8\"\n",
        "\n",
        "data_dir   = (ROOT / DATASET_NAME)\n",
        "output_dir = (ROOT / OUTPUT_NAME)\n",
        "last_model = (ROOT / MODEL_NAME) / \"last_model.keras\"\n",
        "best_model = (ROOT / MODEL_NAME) / \"best_model.keras\"\n",
        "\n",
        "output_dir.mkdir(parents=True, exist_ok=True)\n",
        "\n",
        "assert data_dir.exists(), f\"No existe dataset: {data_dir}\"\n",
        "\n",
        "data_dir   = str(data_dir)\n",
        "output_dir = str(output_dir)\n",
        "last_model = str(last_model)\n",
        "best_model = str(best_model)\n",
        "\n",
        "print(\"data_dir  :\", data_dir)\n",
        "print(\"output_dir:\", output_dir)\n",
        "print(\"last_model:\", last_model)\n",
        "print(\"best_model:\", best_model)\n"
      ],
      "metadata": {
        "colab": {
          "base_uri": "https://localhost:8080/"
        },
        "id": "nbLqfieNvX0P",
        "outputId": "1a41245d-1141-4184-e91d-2b1d899e8ee3"
      },
      "execution_count": null,
      "outputs": [
        {
          "output_type": "stream",
          "name": "stdout",
          "text": [
            "Mounted at /content/drive\n",
            "data_dir  : /content/drive/MyDrive/00 VIU-Inteligencia Artificial/000 TFM 2025/03 TFM/Colab/dataset_reduced_v3\n",
            "output_dir: /content/drive/MyDrive/00 VIU-Inteligencia Artificial/000 TFM 2025/03 TFM/Colab/output_v8\n",
            "last_model: /content/drive/MyDrive/00 VIU-Inteligencia Artificial/000 TFM 2025/03 TFM/Colab/output_v8/last_model.keras\n",
            "best_model: /content/drive/MyDrive/00 VIU-Inteligencia Artificial/000 TFM 2025/03 TFM/Colab/output_v8/best_model.keras\n"
          ]
        }
      ]
    },
    {
      "cell_type": "code",
      "source": [
        "# Calculo automático de cuántos hilos o procesos se usan para que el flujo de datos sea lo más rápido posible en este hardware\n",
        "AUTOTUNE = tf.data.AUTOTUNE\n",
        "\n",
        "# Semilla aleatoria\n",
        "SEED = 42"
      ],
      "metadata": {
        "id": "RSdK26zHHn6g"
      },
      "execution_count": null,
      "outputs": []
    },
    {
      "cell_type": "markdown",
      "source": [
        "# **MÓDULO 1: Preprocesamiento de imágenes**"
      ],
      "metadata": {
        "id": "7thxlGI2lSH1"
      }
    },
    {
      "cell_type": "markdown",
      "source": [
        "## **Funciones de preprocesamiento de imágenes**"
      ],
      "metadata": {
        "id": "R5jkGAG7LVGo"
      }
    },
    {
      "cell_type": "code",
      "source": [
        "## Preprocesado y aumento de variedad de datos\n",
        "\n",
        "# Tamaño al que se redimensionarán las imágenes\n",
        "rescale_size = 224\n",
        "\n",
        "# Función para aplicar un efecto de desenfoque a la imagen\n",
        "def _blur_image(img, amount=0.25):\n",
        "\n",
        "    # Aplica un promedio 2D (filtro de suavizado) sobre la imagen\n",
        "    blur = tf.nn.avg_pool2d(img, ksize=3, strides=1, padding=\"SAME\")[0]\n",
        "\n",
        "    # Combina la imagen original con la desenfocada para resaltar bordes\n",
        "    return tf.clip_by_value(img + amount * (img - blur), 0.0, 1.0)\n",
        "\n",
        "\n",
        "# Función de preprocesamiento de imágenes para la evaluación\n",
        "def preprocess_eval_image(image, label):\n",
        "\n",
        "    # Redimensionar la imagen al tamaño definido (224x224)\n",
        "    image = tf.image.resize(image, (rescale_size, rescale_size))\n",
        "\n",
        "    # Normalización de la imagen a valores de 0.0 a 1.0 en formato float32\n",
        "    image = tf.image.convert_image_dtype(image, tf.float32)\n",
        "\n",
        "    # Aplicar el desenfoque personalizado para mejorar bordes\n",
        "    image = _blur_image(image, amount=0.20)\n",
        "\n",
        "    # Retorno de la imagen preprocesada y la etiqueta\n",
        "    return image, label\n",
        "\n",
        "\n",
        "# Función de aumento de datos para el entrenamiento\n",
        "def augment(image, label):\n",
        "\n",
        "    # Convertir valores de [0,255] a [0,1] en float32\n",
        "    image = tf.image.convert_image_dtype(image, tf.float32)\n",
        "\n",
        "    # Volteo horizontal aleatorio\n",
        "    image = tf.image.random_flip_left_right(image)\n",
        "\n",
        "    # Ajuste de brillo aleatorio (variación de hasta 0.10)\n",
        "    image = tf.image.random_brightness(image, max_delta=0.10)\n",
        "\n",
        "    # Cambio de contraste aleatorio (entre 0.90 y 1.10)\n",
        "    image = tf.image.random_contrast(image, lower=0.90, upper=1.10)\n",
        "\n",
        "    # Aplica el desenfoque para simular variaciones\n",
        "    image = _blur_image(image, amount=0.20)\n",
        "\n",
        "     # Aseguramiento de que los valores se mantengan en el rango válido [0,1]\n",
        "    image = tf.clip_by_value(image, 0.0, 1.0)\n",
        "\n",
        "    # Retorno de la imagen aumentada y su etiqueta\n",
        "    return image, label"
      ],
      "metadata": {
        "id": "fvGz4VFEXX0Y"
      },
      "execution_count": null,
      "outputs": []
    },
    {
      "cell_type": "markdown",
      "source": [
        "## **Funciones de carga y creación de datasets de entrenamiento y validación, *data augmentation***"
      ],
      "metadata": {
        "id": "qx5ftzAZ55lJ"
      }
    },
    {
      "cell_type": "code",
      "source": [
        "# Función para crear datasets de entrenamiento y validación a partir de un directorio\n",
        "\n",
        "def make_train_val(data_dir, img_size, batch):\n",
        "\n",
        "    # Definir las rutas de las carpetas \"train\" y \"val\"\n",
        "    train_dir = os.path.join(data_dir, \"train\")\n",
        "    val_dir = os.path.join(data_dir, \"val\")\n",
        "\n",
        "    # Crea el dataset de entrenamiento a partir de las imágenes en la carpeta \"train\"\n",
        "    train_ds = keras.utils.image_dataset_from_directory(\n",
        "        train_dir,                        # Ruta de las imágenes de entrenamiento\n",
        "        labels=\"inferred\",                # Infiere etiquetas según las carpetas\n",
        "        label_mode=\"binary\",              # Clasificación binaria (0 o 1)\n",
        "        image_size=(img_size, img_size),  # Redimensiona las imágenes al tamaño\n",
        "        batch_size=batch,                 # Número de imágenes por batch\n",
        "        seed=SEED                         # Semilla para reproducibilidad\n",
        "    )\n",
        "\n",
        "    # Crea el dataset de validación a partir de las imágenes en la carpeta \"val\"\n",
        "    val_ds = keras.utils.image_dataset_from_directory(\n",
        "        val_dir,                          # Ruta de las imágenes de validación\n",
        "        labels=\"inferred\",\n",
        "        label_mode=\"binary\",\n",
        "        image_size=(img_size, img_size),\n",
        "        batch_size=batch,\n",
        "        seed=SEED,\n",
        "        verbose=0,\n",
        "        shuffle=False                     # No mezclar para mantener el orden en validación\n",
        "    )\n",
        "\n",
        "\n",
        "    # Función para normalizar imágenes (sin aumento de datos)\n",
        "    def normalize_only(x, y):\n",
        "\n",
        "        x = tf.image.convert_image_dtype(x, tf.float32) # Convierte a float32 y escala [0,1]\n",
        "        return x, y\n",
        "\n",
        "    ## Pipeline: train = augment y normalizar, val = solo normalizar\n",
        "\n",
        "    # Aplicar augmentación al dataset de entrenamiento\n",
        "    train_ds = train_ds.map(augment, num_parallel_calls=AUTOTUNE)\n",
        "\n",
        "    # Mezclar el dataset de entrenamiento, con prefetch se optimiza el rendimiento\n",
        "    train_ds = train_ds.shuffle(8*batch, seed=SEED).prefetch(AUTOTUNE)\n",
        "\n",
        "    # Aplicar normalización al dataset de validación\n",
        "    val_ds = val_ds.map(normalize_only, num_parallel_calls=AUTOTUNE)\n",
        "\n",
        "    # Preparar el dataset de validación con prefetch (sin shuffle)\n",
        "    val_ds   = val_ds.prefetch(AUTOTUNE)\n",
        "\n",
        "    # Retornar ambos datasets listos para el modelo\n",
        "    return train_ds, val_ds\n"
      ],
      "metadata": {
        "id": "8V-sqtoEH27H"
      },
      "execution_count": null,
      "outputs": []
    },
    {
      "cell_type": "markdown",
      "source": [
        "## **Funciones de carga y creación de dataset de evaluación**"
      ],
      "metadata": {
        "id": "Tt-vPWaMatP0"
      }
    },
    {
      "cell_type": "code",
      "source": [
        "# Función para crear un dataset de evaluación (prueba o validación) con preprocesamiento\n",
        "\n",
        "def make_eval(data_dir, split, img_size, batch):\n",
        "\n",
        "    # Construir la ruta según el split especificado (ej: \"val\" o \"test\")\n",
        "    split_dir = os.path.join(data_dir, split)\n",
        "\n",
        "    # Cargar las imágenes desde el directorio\n",
        "    ds = keras.utils.image_dataset_from_directory(\n",
        "        split_dir,                        # Ruta del dataset\n",
        "        labels=\"inferred\",\n",
        "        label_mode=\"binary\",\n",
        "        image_size=(img_size, img_size),\n",
        "        batch_size=batch,\n",
        "        seed=SEED,\n",
        "        verbose=0,\n",
        "        shuffle=False\n",
        "    )\n",
        "\n",
        "    # Guardar las rutas de archivos cargados en una lista\n",
        "    file_paths = ds.file_paths\n",
        "\n",
        "    # Aplicar la función de preprocesamiento al dataset y prefetch para optimizar rendimiento\n",
        "    ds = ds.map(preprocess_eval_image, num_parallel_calls=AUTOTUNE).prefetch(AUTOTUNE)\n",
        "\n",
        "    # Obtener los nombres de las clases (carpetas del directorio) y ordenarlas\n",
        "    class_names = sorted(next(os.walk(split_dir))[1])\n",
        "\n",
        "    # Retorno del dataset procesado, rutas de archivos y nombres de clases\n",
        "    return ds, file_paths, class_names"
      ],
      "metadata": {
        "id": "FY-SUvrB-_WX"
      },
      "execution_count": null,
      "outputs": []
    },
    {
      "cell_type": "markdown",
      "source": [
        "# **MODULO 2: Extracción y análisis de características**"
      ],
      "metadata": {
        "id": "dX8YyS7lXQVR"
      }
    },
    {
      "cell_type": "markdown",
      "source": [
        "## **Funciones de atención visual por canal y espacial, CBAM**"
      ],
      "metadata": {
        "id": "jGMq6pEJUF5B"
      }
    },
    {
      "cell_type": "code",
      "source": [
        "# Registrar la clase como serializable para que Keras pueda guardar/cargar en modelos\n",
        "@keras.utils.register_keras_serializable(package=\"Custom\", name=\"ChannelAttention\")\n",
        "\n",
        "# Definición de una capa de atención por canal\n",
        "class ChannelAttention(layers.Layer):\n",
        "\n",
        "    def __init__(self, ratio=8, **kwargs):\n",
        "        super(ChannelAttention, self).__init__(**kwargs)  # Constructor de la clase padre\n",
        "        self.ratio = ratio                                # Ratio de reducción de dimensión de canales del MLP\n",
        "\n",
        "\n",
        "    def build(self, input_shape):\n",
        "        channel_dim = input_shape[-1]                     # Número de canales de entrada\n",
        "        hidden_units = max(channel_dim // self.ratio, 1)  # Definición de unidades ocultas reduciendo por el ratio\n",
        "\n",
        "        # Definición de capas densas: para reducir dimensión y luego recuperar\n",
        "        self.fc1 = layers.Dense(hidden_units, activation=\"relu\")\n",
        "        self.fc2 = layers.Dense(channel_dim, activation=\"sigmoid\")\n",
        "\n",
        "        # Operaciones de pooling global por canal\n",
        "        self.avg_pool = layers.GlobalAveragePooling2D()\n",
        "        self.max_pool = layers.GlobalMaxPooling2D()\n",
        "\n",
        "\n",
        "    def call(self, inputs):\n",
        "        # Aplicar pooling global a los canales\n",
        "        avg_out = self.fc2(self.fc1(self.avg_pool(inputs))) # paso por MLP después del avg_pool\n",
        "        max_out = self.fc2(self.fc1(self.max_pool(inputs))) # paso por MLP después del max_pool\n",
        "\n",
        "        # Expandie las dimensiones para igualar al tensor original\n",
        "        avg_out = tf.expand_dims(tf.expand_dims(avg_out, 1), 1)\n",
        "        max_out = tf.expand_dims(tf.expand_dims(max_out, 1), 1)\n",
        "\n",
        "        # Retorno de la entrada por la atención (avg + max)\n",
        "        return inputs * (avg_out + max_out)\n"
      ],
      "metadata": {
        "id": "u2WmtS-2arJM"
      },
      "execution_count": null,
      "outputs": []
    },
    {
      "cell_type": "code",
      "source": [
        "# Registrar la clase como serializable para que Keras pueda guardar/cargar en modelos\n",
        "@tf.keras.utils.register_keras_serializable(package = \"Custom\", name = \"SpatialAttention\")\n",
        "\n",
        "# Definición de una capa de atención espacial\n",
        "class SpatialAttention(layers.Layer):\n",
        "\n",
        "    def __init__(self, kernel_size=7, **kwargs):\n",
        "\n",
        "        super().__init__(**kwargs)            # Constructor de la clase padre\n",
        "        self.kernel_size = kernel_size        # Se guarda el tamaño del kernel para convolución\n",
        "\n",
        "\n",
        "    def build(self, input_shape):\n",
        "\n",
        "        self.conv = layers.Conv2D(            # Define una convolución 2D con un filtro para generar el mapa de atención espacial\n",
        "            filters = 1,                      # Un canal de salida (máscara de atención)\n",
        "            kernel_size = self.kernel_size,   # Tamaño del kernel\n",
        "            strides = 1,                      # Desplazamiento estándar de 1\n",
        "            padding = \"same\",                 # No cambia las dimensiones de la entrada\n",
        "            activation = \"sigmoid\",           # Para la salida entre [0,1] de la máscara\n",
        "            kernel_initializer = \"he_normal\", # Inicialización de pesos de la CNN\n",
        "            use_bias = False                  # No usa sesgo en esta convolución\n",
        "        )\n",
        "\n",
        "        # Finalizar la construcción de la capa base\n",
        "        super().build(input_shape)\n",
        "\n",
        "\n",
        "    def call(self, inputs):\n",
        "\n",
        "        # Calculo del promedio por canal (mapa de información)\n",
        "        avg_pool = tf.reduce_mean(inputs, axis=-1, keepdims=True)\n",
        "\n",
        "        # Calculo del máximo por canal (mapa de características fuertes)\n",
        "        max_pool = tf.reduce_max(inputs, axis=-1, keepdims=True)\n",
        "\n",
        "         # Concatenar mapas en el eje de canales\n",
        "        both = tf.concat([avg_pool, max_pool], axis=-1)\n",
        "\n",
        "        # Pasa el resultado por la convolución para generar la máscara de atención\n",
        "        mask = self.conv(both)\n",
        "\n",
        "        # Retorno de la multiplicación de la entrada original por la máscara\n",
        "        # para realzar regiones importantes\n",
        "        return inputs * mask\n",
        "\n",
        "\n",
        "    def get_config(self):\n",
        "\n",
        "        # Guardado de la configuración para que la capa pueda ser serializada correctamente\n",
        "        config = super().get_config()\n",
        "        config.update({\"kernel_size\": self.kernel_size})\n",
        "\n",
        "        return config"
      ],
      "metadata": {
        "id": "r8QiA-ubWUx-"
      },
      "execution_count": null,
      "outputs": []
    },
    {
      "cell_type": "code",
      "source": [
        "# Registrar la clase como serializable para que Keras pueda guardar/cargar en modelos\n",
        "@keras.utils.register_keras_serializable(package=\"Custom\", name=\"CBAM\")\n",
        "\n",
        "# Definición de la clase CBAM como una capa Keras\n",
        "class CBAM(layers.Layer):\n",
        "\n",
        "    def __init__(self, reduction=16, kernel_size=7, **kwargs):\n",
        "        super().__init__(**kwargs)                    # Constructor de la clase padre\n",
        "        self.reduction = reduction                    # Parámetro para compresión de canales de ChannelAttention\n",
        "        self.kernel_size = kernel_size or 7\n",
        "\n",
        "    # Definición de las subcapas de atención que forman CBAM\n",
        "    def build(self, input_shape):\n",
        "\n",
        "        self.channel_attention = ChannelAttention(self.reduction)       # Atención por canal\n",
        "        self.spatial_attention = SpatialAttention(self.kernel_size)     # Atención espacial\n",
        "\n",
        "        # Finalizar la construcción de la capa base\n",
        "        super().build(input_shape)\n",
        "\n",
        "\n",
        "    def call(self, inputs):\n",
        "\n",
        "        x = self.channel_attention(inputs)            # Aplicar atención por canal\n",
        "        x = self.spatial_attention(x)                 # Aplicar atención espacial\n",
        "\n",
        "        # Retorno de la salida refinada en ambas dimensiones\n",
        "        return x\n"
      ],
      "metadata": {
        "id": "PSSBPcyccBP0"
      },
      "execution_count": null,
      "outputs": []
    },
    {
      "cell_type": "markdown",
      "source": [
        "## **Función de construcción del modelo**\n",
        "\n"
      ],
      "metadata": {
        "id": "RApZkmxtwoFW"
      }
    },
    {
      "cell_type": "code",
      "source": [
        "def build_model(img_size=224):\n",
        "\n",
        "    # Capa de entrada para imágenes RGB (3 canales) de tamaño img_size x img_size\n",
        "    inputs = keras.Input(shape=(img_size, img_size, 3))\n",
        "\n",
        "    # Primer bloque convolucional\n",
        "    x = layers.Conv2D(32, 3, padding=\"same\", activation=\"relu\")(inputs)   # 32 filtros, tamaño de kernel 3x3, padding “same” mantiene tamaño, activación ReLU\n",
        "    x = layers.BatchNormalization()(x)                                    # Normaliza por lotes para estabilizar y acelerar el entrenamiento\n",
        "    x = layers.Conv2D(32, 3, padding=\"same\", activation=\"relu\")(x)        # Segunda conv 3x3 con 32 filtros para extraer más características\n",
        "    x = layers.MaxPool2D()(x)                                             # Reduce el tamaño espacial (alto/ancho) a la mitad reteniendo información relevante\n",
        "\n",
        "    # Segundo bloque convolucional\n",
        "    x = layers.Conv2D(64, 3, padding=\"same\", activation=\"relu\")(x)        # 64 filtros\n",
        "    x = layers.BatchNormalization()(x)\n",
        "    x = layers.Conv2D(64, 3, padding=\"same\", activation=\"relu\")(x)\n",
        "    x = layers.MaxPool2D()(x)\n",
        "\n",
        "    # Tercer bloque convolucional\n",
        "    x = layers.Conv2D(128, 3, padding=\"same\", activation=\"relu\")(x)       # 128 filtros\n",
        "    x = layers.BatchNormalization()(x)\n",
        "    x = layers.Conv2D(128, 3, padding=\"same\", activation=\"relu\")(x)\n",
        "    x = layers.MaxPool2D()(x)\n",
        "\n",
        "    # Aplicación de función de atención CBAM para refinar canales y regiones importantes\n",
        "    x = CBAM()(x)\n",
        "\n",
        "    # Clasificador denso\n",
        "    x = layers.Flatten()(x)                     # Convierte los mapas de características en un vector 1D\n",
        "    x = layers.Dropout(0.3)(x)                  # Desactiva aleatoriamente 30% para evitar sobreajuste\n",
        "    x = layers.Dense(128, activation=\"relu\")(x) # Capa densa totalmente conectada de 128 neuronas con activación ReLU\n",
        "\n",
        "    # Capa de salida\n",
        "    x = layers.Dropout(0.3)(x) # Segundo dropout de 30% de neuronas para evitar sobreajuste\n",
        "    outputs = layers.Dense(1, activation=\"sigmoid\")(x) # Salida binaria (0 = real, 1 = fake) con activación sigmoide para producir probabilidad\n",
        "\n",
        "    # Modelo final\n",
        "    model = keras.Model(inputs, outputs, name=\"deepfake_detector\")\n",
        "\n",
        "    return model"
      ],
      "metadata": {
        "id": "-Ii5fZVKH0eh"
      },
      "execution_count": null,
      "outputs": []
    },
    {
      "cell_type": "markdown",
      "source": [
        "## **UTILIDADES: Funciones de Grad-CAM y detección de última convolución**"
      ],
      "metadata": {
        "id": "PXYKnjpecMzP"
      }
    },
    {
      "cell_type": "code",
      "source": [
        "# Función para generar un mapa de calor con Grad-CAM\n",
        "def gradcam_heatmap(img_array, model, last_conv_layer_name, pred_index=None):\n",
        "\n",
        "    img_array = tf.cast(img_array, tf.float32)      # Asegura que img_array es float32\n",
        "\n",
        "    if len(img_array.shape) == 3:                   # Si la imagen tiene formato (Height, Width, Channels)\n",
        "        img_array = tf.expand_dims(img_array, 0)    # Añadir dimensión batch (1, H, W, C)\n",
        "\n",
        "    # Modelo auxiliar\n",
        "    grad_model = tf.keras.models.Model(\n",
        "        inputs=model.input,\n",
        "        outputs=[model.get_layer(last_conv_layer_name).output, model.output] # Activaciones de la última capa convolucional, salida del modelo\n",
        "    )\n",
        "\n",
        "    # Guardar operaciones para calcular gradientes\n",
        "    with tf.GradientTape() as tape:\n",
        "\n",
        "        conv_outputs, predictions = grad_model(img_array)   # Activaciones y predicciones\n",
        "\n",
        "        if pred_index is None:\n",
        "            pred_index = tf.argmax(predictions[0])          # Clase con mayor probabilidad\n",
        "\n",
        "        class_channel = predictions[:, pred_index]          # Probabilidad de clase objetivo\n",
        "\n",
        "    # Cálculo de gradientes de clase respecto a las activaciones de la capa conv\n",
        "    grads = tape.gradient(class_channel, conv_outputs)\n",
        "\n",
        "    # Promedio de gradientes por canal, indica la importancia de cada mapa de características\n",
        "    pooled_grads = tf.reduce_mean(grads, axis=(0, 1, 2))\n",
        "\n",
        "    conv_outputs = conv_outputs[0]                          # Eliminar dimensión batch\n",
        "    heatmap = conv_outputs @ pooled_grads[..., tf.newaxis]  # Multiplicar activaciones por la importancia de cada canal\n",
        "    heatmap = tf.squeeze(heatmap)                           # Eliminar dimensiones extra\n",
        "\n",
        "    max_val = tf.reduce_max(heatmap)                        # Normalizar heatmap a [0,1]\n",
        "\n",
        "    if max_val > 0:\n",
        "        heatmap /= max_val\n",
        "    heatmap = np.uint8(255 * heatmap.numpy())               # Transforma a rango [0,255]\n",
        "\n",
        "    # Normalización adicional para asegurar valores válidos\n",
        "    heatmap = tf.maximum(heatmap, 0)\n",
        "\n",
        "    if tf.reduce_max(heatmap) > 0:\n",
        "        heatmap /= tf.reduce_max(heatmap)\n",
        "\n",
        "    # Convertir a uint8 2D nuevamente\n",
        "    heatmap = np.uint8(255 * heatmap.numpy())\n",
        "\n",
        "    if heatmap.ndim == 3:   # Si tiene forma (H, W, 1) se reduce a (H, W)\n",
        "        heatmap = heatmap[:, :, 0]\n",
        "\n",
        "    # Retornar mapa de calor para superponer en la imagen\n",
        "    return heatmap"
      ],
      "metadata": {
        "id": "t305X_RRoHIg"
      },
      "execution_count": null,
      "outputs": []
    },
    {
      "cell_type": "code",
      "source": [
        "# Función para superponer un mapa de calor (Grad-CAM) sobre la imagen original\n",
        "def overlay_heatmap(img_uint8, heatmap, alpha=0.4, colormap=cv2.COLORMAP_JET):\n",
        "\n",
        "    # Ajusta el tamaño del heatmap al de la imagen original\n",
        "    heatmap = cv2.resize(heatmap, (img_uint8.shape[1], img_uint8.shape[0]))\n",
        "\n",
        "    # Convierte el heatmap en una versión a color usando colormap JET\n",
        "    heatmap_color = cv2.applyColorMap(heatmap, colormap)\n",
        "\n",
        "    # Combina la imagen original con el heatmap de color con transparencia (alpha)\n",
        "    return cv2.addWeighted(img_uint8, 1 - alpha, heatmap_color, alpha, 0)"
      ],
      "metadata": {
        "id": "OgHusMHjy4XF"
      },
      "execution_count": null,
      "outputs": []
    },
    {
      "cell_type": "code",
      "source": [
        "# Función para localizar la última capa convolucional adecuada para Grad-CAM\n",
        "\n",
        "def find_last_conv(model, prefer_size_min=7):\n",
        "    candidate = None      # Valor por defecto si no se encuentra\n",
        "\n",
        "    # Recorre las capas del modelo en orden inverso\n",
        "    for layer in reversed(model.layers):\n",
        "\n",
        "       if isinstance(layer, keras.layers.Conv2D):       # Verifica si la capa es Conv2D\n",
        "            # print(layer.name, layer.output.shape)     # (Opcional, para debug)\n",
        "\n",
        "            try:\n",
        "                h, w = layer.output_shape[1], layer.output_shape[2]     # Alto y ancho del feature map\n",
        "                if h >= prefer_size_min and w >= prefer_size_min:       # Si el tamaño es mayor o igual al preferido\n",
        "                    return layer.name                                   # Se devuelve la capa\n",
        "            except:\n",
        "                pass                                                    # En caso de no poder acceder al output_shape\n",
        "\n",
        "            if candidate is None:\n",
        "                candidate = layer.name              # Si aún no hay candidato, se devuelve la capa actual\n",
        "\n",
        "    # Si se encuentra una Conv2D pero ninguno con tamaño grande, devuelve el último\n",
        "    if candidate:\n",
        "        return candidate\n",
        "\n",
        "    # Error devuelto si no hay ninguna capa Conv2D en el modelo\n",
        "    raise ValueError(\"No se encontró una capa Conv2D en el modelo.\")"
      ],
      "metadata": {
        "id": "y1IwMCUBH66A"
      },
      "execution_count": null,
      "outputs": []
    },
    {
      "cell_type": "markdown",
      "source": [
        "# **MÓDULO 3: Clasificación y explicabilidad**"
      ],
      "metadata": {
        "id": "gN3fo0PIxuIb"
      }
    },
    {
      "cell_type": "markdown",
      "source": [
        "## **Función de entrenamiento del modelo**"
      ],
      "metadata": {
        "id": "fSmdonMAcaMX"
      }
    },
    {
      "cell_type": "code",
      "source": [
        "def do_train(args):\n",
        "\n",
        "    # Preparar el conjunto de datos de entrenamiento y validación\n",
        "    print(\"[INFO] Preparando dataset de entrenamiento y validación.\")\n",
        "    train_ds, val_ds = make_train_val(args.data_dir, args.img_size, args.batch_size)\n",
        "\n",
        "    # Construir el modelo con el tamaño de imagen indicado\n",
        "    print(\"[INFO] Creando el modelo.\")\n",
        "    model = build_model(args.img_size)\n",
        "\n",
        "    # Compilar el modelo con optimizador, función de pérdida y métricas\n",
        "    print(\"[INFO] Compilando el modelo.\")\n",
        "    model.compile(\n",
        "        optimizer=keras.optimizers.Adam(args.lr),           # Optimizador Adam con tasa de aprendizaje\n",
        "        loss=\"binary_crossentropy\",                         # Pérdida binaria para clasificación 0 o 1\n",
        "        metrics=[keras.metrics.BinaryAccuracy(name=\"acc\"),  # Métricas de evaluación durante el entrenamiento\n",
        "                 keras.metrics.AUC(name=\"auc\"),\n",
        "                 keras.metrics.Precision(name=\"prec\"),\n",
        "                 keras.metrics.Recall(name=\"recall\")]\n",
        "    )\n",
        "\n",
        "    # Crear el directorio de salida para guardar modelos\n",
        "    os.makedirs(args.output_dir, exist_ok=True)\n",
        "\n",
        "    # Guardar modelo que obtiene el mejor rendimiento según la métrica de validación (val_auc).\n",
        "    checkpoint_path = os.path.join(args.output_dir, \"best_model.keras\")\n",
        "\n",
        "    # Callbacks de entrenamiento\n",
        "    callbacks = [\n",
        "\n",
        "        # Guarda el modelo cada vez que mejora el val_auc. Sólo se conserva el mejor\n",
        "        keras.callbacks.ModelCheckpoint(checkpoint_path, monitor=\"val_auc\", mode=\"max\", save_best_only=True, verbose=1),\n",
        "\n",
        "        # Detiene el entrenamiento si val_auc deja de mejorar durante 5 épocas seguidas, restaura los pesos del mejor modelo\n",
        "        keras.callbacks.EarlyStopping(monitor=\"val_auc\", mode=\"max\", patience=5, restore_best_weights=True),\n",
        "\n",
        "        # Reduce LR a la mitad si la val_loss no mejora durante 3 épocas consecutivas, evita estancamiento\n",
        "        keras.callbacks.ReduceLROnPlateau(monitor=\"val_loss\", factor=0.5, patience=3, verbose=1),\n",
        "    ]\n",
        "\n",
        "    # Entrenar el modelo con los datasets\n",
        "    print(\"[INFO] Entrenando.\")\n",
        "\n",
        "    # Guardar el historial del entrenamiento de TRAIN y VAL por época, para curvas de aprendizaje y medición de desempeño\n",
        "    history = model.fit(train_ds, validation_data=val_ds, epochs=args.epochs, callbacks=callbacks, verbose=2)\n",
        "\n",
        "    # Guardar el último modelo entrenado al fin de épocas, como respaldo\n",
        "    last_path = os.path.join(args.output_dir, \"last_model.keras\")\n",
        "    model.save(last_path)\n",
        "\n",
        "    print(f\"[OK] Entrenamiento listo. Mejor modelo: {checkpoint_path}. Último: {last_path}\")\n",
        "\n",
        "    # Retornar historial de entrenamiento: pérdidas y métricas por época\n",
        "    return history"
      ],
      "metadata": {
        "id": "sokQrZeGH5zW"
      },
      "execution_count": null,
      "outputs": []
    },
    {
      "cell_type": "markdown",
      "source": [
        "## **Función de umbral F1**"
      ],
      "metadata": {
        "id": "aCNSL8TOPlYQ"
      }
    },
    {
      "cell_type": "code",
      "source": [
        "# Cálculo del mejor umbral F1 para clasificación binaria\n",
        "\n",
        "def do_ypred(args):\n",
        "\n",
        "    print(\"[INFO] Cargando modelo.\")\n",
        "\n",
        "    # Registro de las capas personalizadas para cargar el modelo\n",
        "    custom_objects = {\n",
        "        \"CBAM\": CBAM,\n",
        "        \"ChannelAttention\": ChannelAttention,\n",
        "        \"SpatialAttention\": SpatialAttention\n",
        "    }\n",
        "\n",
        "    # Carga del modelo entrenado con las capas personalizadas\n",
        "    model = keras.models.load_model(args.model_path, custom_objects=custom_objects, compile=False)\n",
        "\n",
        "    # Compilar el modelo\n",
        "    model.compile(optimizer=keras.optimizers.Adam(1e-4),    # Optimizador Adam con tasa de aprendizaje\n",
        "                  loss=\"binary_crossentropy\",               # Pérdida binaria para clasificación 0 o 1\n",
        "                  metrics=[keras.metrics.BinaryAccuracy(), keras.metrics.AUC()]) # Métricas de evaluación para calculo de accuracy y ROC\n",
        "\n",
        "    print(\"[INFO] Preparando datos de cálculo de umbral.\")\n",
        "\n",
        "    # Evaluación del conjunto de Validación para buscar el umbral óptimo\n",
        "    val_ds, file_paths, class_names = make_eval(args.data_dir, \"val\", args.img_size, args.batch_size)\n",
        "\n",
        "    # Obtener probabilidades para cada imagen\n",
        "    y_prob = model.predict(val_ds, verbose=0).ravel()\n",
        "\n",
        "    # Extraer las etiquetas verdaderas (0 = real, 1 = fake)\n",
        "    y_true = [y.numpy().item() for _, y in val_ds.unbatch()]\n",
        "    y_true = np.array(y_true)\n",
        "\n",
        "    print(\"[INFO] Calculando umbral.\")\n",
        "\n",
        "    # Calcular precisión, recall y umbrales\n",
        "    precisions, recalls, thresholds = precision_recall_curve(y_true, y_prob)\n",
        "\n",
        "    # Calcular F1 en cada punto (se agrega 1e-8 para evitar división por cero)\n",
        "    f1s = 2 * (precisions * recalls) / (precisions + recalls + 1e-8)\n",
        "\n",
        "    # Encontrar el mejor umbral según F1\n",
        "    best_idx = np.argmax(f1s)\n",
        "    best_threshold = thresholds[best_idx]\n",
        "\n",
        "    # Mostrar resultados\n",
        "    print(\"[OK] Resultado:\")\n",
        "    print(f\"Mejor umbral: {best_threshold:.2f}\")\n",
        "\n",
        "    # Graficar métricas según umbral\n",
        "    plt.figure(figsize=(8,6))\n",
        "    plt.plot(thresholds, precisions[:-1], label=\"Precisión\")\n",
        "    plt.plot(thresholds, recalls[:-1], label=\"Recall\")\n",
        "    plt.plot(thresholds, f1s[:-1], label=\"F1-score\", linewidth=2)\n",
        "\n",
        "    plt.axvline(best_threshold, color=\"r\", linestyle=\"--\", label=f\"Óptimo = {best_threshold:.2f}\")  # Línea vertical en el mejor umbral\n",
        "\n",
        "    plt.xlabel(\"Umbral\")\n",
        "    plt.ylabel(\"Métrica\")\n",
        "    plt.title(\"Precisión, Recall y F1 en función del umbral\")\n",
        "    plt.legend()\n",
        "    plt.grid(True)\n",
        "    plt.savefig(os.path.join(args.output_dir, \"umbral.png\"), dpi=200)\n",
        "    plt.show()\n",
        "\n",
        "    return best_threshold"
      ],
      "metadata": {
        "id": "Rzwuy7dHQI0g"
      },
      "execution_count": null,
      "outputs": []
    },
    {
      "cell_type": "markdown",
      "source": [
        "## **Función del modelo de evaluación, gráficas y Grad-CAM**"
      ],
      "metadata": {
        "id": "IXBnr0Dau3y9"
      }
    },
    {
      "cell_type": "code",
      "source": [
        "def do_eval(args, threshold=0.5):\n",
        "\n",
        "    print(\"[INFO] Inicio de evaluación del modelo.\")\n",
        "    print(\"[INFO] Cargando modelo.\")\n",
        "\n",
        "    # Registro de las capas personalizadas para cargar el modelo\n",
        "    custom_objects = {\n",
        "        \"CBAM\": CBAM,\n",
        "        \"ChannelAttention\": ChannelAttention,\n",
        "        \"SpatialAttention\": SpatialAttention\n",
        "    }\n",
        "\n",
        "    # Carga del modelo entrenado con las capas personalizadas\n",
        "    model = keras.models.load_model(args.model_path, custom_objects=custom_objects, compile=False)\n",
        "\n",
        "    # Compilar el modelo\n",
        "    model.compile(optimizer=keras.optimizers.Adam(1e-4),\n",
        "                  loss=\"binary_crossentropy\",\n",
        "                  metrics=[keras.metrics.BinaryAccuracy(), keras.metrics.AUC()])\n",
        "\n",
        "    print(\"[INFO] Preparando datos.\")\n",
        "\n",
        "    # Carga del dataset con etiquetas y rutas\n",
        "    ds, file_paths, class_names = make_eval(args.data_dir, \"test\", args.img_size, args.batch_size)\n",
        "\n",
        "    print(\"[INFO] Calculando predicciones.\")\n",
        "\n",
        "    # Cálculo de predicción de probabilidades para cada imagen\n",
        "    y_prob = model.predict(ds, verbose=0).ravel()\n",
        "\n",
        "    # Etiquetas verdaderas\n",
        "    y_true = [y.numpy().item() for _, y in ds.unbatch()]\n",
        "    y_true = np.array(y_true)\n",
        "\n",
        "    # Clasificación binaria según un umbral encontrado\n",
        "    y_pred = (y_prob >= threshold).astype(int)\n",
        "\n",
        "    # Cálculo de métricas\n",
        "    acc = accuracy_score(y_true, y_pred)                      # Exactitud\n",
        "    prec = precision_score(y_true, y_pred, zero_division=0)   # Precisión\n",
        "    rec = recall_score(y_true, y_pred, zero_division=0)       # Recall\n",
        "    f1 = f1_score(y_true, y_pred, zero_division=0)            # F1\n",
        "    fpr, tpr, _ = roc_curve(y_true, y_prob)                   # Curva ROC\n",
        "    roc_auc = auc(fpr, tpr)                                   # Área bajo la curva ROC (AUC)\n",
        "    cm = confusion_matrix(y_true, y_pred)                     # Matriz de confusión\n",
        "\n",
        "    # Creamción del directorio de salida\n",
        "    os.makedirs(args.output_dir, exist_ok=True)\n",
        "\n",
        "    # Guardar resultados por cada imagen en archivo CSV\n",
        "    df = pd.DataFrame({\n",
        "        \"file_path\": file_paths,\n",
        "        \"y_true\": y_true,\n",
        "        \"y_prob_fake\": y_prob,\n",
        "        \"y_pred\": y_pred})\n",
        "\n",
        "    df.to_csv(os.path.join(args.output_dir, \"reporte_val_por_muestra.csv\"), index=False)\n",
        "\n",
        "    # Guardar métricas globales en resumen TXT\n",
        "    with open(os.path.join(args.output_dir, \"metricas_resumen.txt\"), \"w\", encoding=\"utf-8\") as f:\n",
        "        f.write(f\"\"\"Accuracy: {acc:.4f}\\n\n",
        "                  Precision: {prec:.4f}\\n\n",
        "                  Recall: {rec:.4f}\\n\n",
        "                  F1: {f1:.4f}\\n\n",
        "                  AUC: {roc_auc:.4f}\\n\"\"\")\n",
        "\n",
        "        f.write(f\"Confusion Matrix:\\n{cm}\\n\")\n",
        "\n",
        "    print(\"[INFO] Graficando.\")\n",
        "\n",
        "    # GRÁFICAS\n",
        "\n",
        "    # Gráfica de matriz de confusión\n",
        "    plt.figure()\n",
        "    plt.imshow(cm, interpolation='nearest')\n",
        "    plt.title(\"Matriz de confusión\")\n",
        "    plt.colorbar()\n",
        "    ticks = np.arange(len(class_names))\n",
        "    plt.xticks(ticks, class_names, rotation=45, ha=\"right\")\n",
        "    plt.yticks(ticks, class_names)\n",
        "    plt.xlabel(\"Predicción\")\n",
        "    plt.ylabel(\"Real\")\n",
        "    plt.tight_layout()\n",
        "    plt.savefig(os.path.join(args.output_dir, \"matriz_confusion.png\"), dpi=200)\n",
        "    plt.close()\n",
        "\n",
        "    # Gráfica de Curva ROC\n",
        "    plt.figure()\n",
        "    plt.plot(fpr, tpr, label=f\"AUC = {roc_auc:.3f}\")\n",
        "    plt.plot([0, 1], [0, 1], linestyle='--')\n",
        "    plt.title(\"Curva ROC\")\n",
        "    plt.xlabel(\"FPR\")\n",
        "    plt.ylabel(\"TPR\")\n",
        "    plt.legend(loc=\"lower right\")\n",
        "    plt.tight_layout()\n",
        "    plt.savefig(os.path.join(args.output_dir, \"curva_roc.png\"), dpi=200)\n",
        "    plt.close()\n",
        "\n",
        "    print(f\"[OK] Resultados:\")\n",
        "    print(f\"Accuracy  = {acc:.4f}\")\n",
        "    print(f\"Precision = {prec:.4f}\")\n",
        "    print(f\"Recall    = {rec:.4f}\")\n",
        "    print(f\"F1        = {f1:.4f}\")\n",
        "    print(f\"AUC       = {roc_auc:.4f}\")\n",
        "\n",
        "\n",
        "    # GRAD-CAM\n",
        "\n",
        "    print(\"[INFO] Generando Grad-CAM de algunas imágenes.\")\n",
        "\n",
        "    # Grad-CAM de imágenes al azar\n",
        "    gradcam_dir = os.path.join(args.output_dir, \"gradcam_samples\")\n",
        "    os.makedirs(gradcam_dir, exist_ok=True)\n",
        "\n",
        "    # Localizar última capa convolucional adecuada\n",
        "    last_conv = find_last_conv(model)\n",
        "    # last_conv = \"conv2d_22\"  # (alternativa manual)\n",
        "\n",
        "    samples_guardados = 0\n",
        "    max_samples = args.gradcam_samples    # Número de samples a guardar\n",
        "\n",
        "    # Itera por cada clase del conjunto de validación (fake/real)\n",
        "    for cls in sorted(next(os.walk(os.path.join(args.data_dir, \"test\")))[1]):\n",
        "\n",
        "        cls_dir = os.path.join(args.data_dir, \"test\", cls)\n",
        "\n",
        "        # Listar imágenes de la clase\n",
        "        files = [f for f in os.listdir(cls_dir) if f.lower().endswith(('.jpg', '.jpeg', '.png'))]\n",
        "\n",
        "        # Procesa varias imágenes por clase (mitad de max_samples)\n",
        "        for fname in files[: max(1, max_samples // 2)]:\n",
        "            p = os.path.join(cls_dir, fname)\n",
        "\n",
        "            # Decodificar la imagen con TensorFlow\n",
        "            raw = tf.io.read_file(p)\n",
        "            img = tf.image.decode_image(raw, channels=3)\n",
        "            img = tf.image.convert_image_dtype(img, tf.float32)\n",
        "\n",
        "            # Redimensionar la imagen al tamaño esperado por el modelo y overlay\n",
        "            img_resized = tf.image.resize(img, (args.img_size, args.img_size))\n",
        "\n",
        "            # Convierte a uint8 para overlay con OpenCV\n",
        "            img_uint8 = (img_resized.numpy() * 255).astype(\"uint8\")\n",
        "\n",
        "            # Añadir dimensión batch (1, H, W, C)\n",
        "            img_res = tf.expand_dims(img_resized, 0)\n",
        "\n",
        "            # Calcular mapa de calor con Grad-CAM y overlay\n",
        "            preds = model.predict(img_res, verbose=0)\n",
        "            pred_index = np.argmax(preds[0])   # Clase más probable según el modelo\n",
        "\n",
        "            # Generar el mapa de calor con Grad-CAM\n",
        "            heat = gradcam_heatmap(img_res, model, last_conv, pred_index=pred_index)\n",
        "\n",
        "            # Superposición de mapa de calor sobre imagen, con transparencia\n",
        "            overlay = overlay_heatmap(img_uint8, heat, alpha=0.35)\n",
        "\n",
        "            # Guardar resultados\n",
        "            out_path = os.path.join(gradcam_dir, f\"gradcam_{os.path.basename(p)}\")\n",
        "            plt.figure();\n",
        "            plt.imshow(overlay);\n",
        "            plt.axis(\"off\");\n",
        "            plt.tight_layout()\n",
        "            plt.savefig(out_path, dpi=200, bbox_inches='tight', pad_inches=0);\n",
        "            plt.close()\n",
        "\n",
        "            samples_guardados += 1\n",
        "            if samples_guardados >= max_samples:\n",
        "                break\n",
        "\n",
        "    print(f\"[OK] Grad-CAM guardados en: {gradcam_dir} ({samples_guardados} imágenes)\")\n"
      ],
      "metadata": {
        "id": "Wua8VezwH-eW"
      },
      "execution_count": null,
      "outputs": []
    },
    {
      "cell_type": "markdown",
      "source": [
        "# **Ejecución del entrenamiento**"
      ],
      "metadata": {
        "id": "-NbxNSM_o5IM"
      }
    },
    {
      "cell_type": "code",
      "source": [
        "# Ejecución del entrenamiento del modelo\n",
        "\n",
        "args = argparse.Namespace(data_dir=data_dir, output_dir=output_dir, img_size=224, batch_size=32, epochs=10, lr=1e-4)\n",
        "\n",
        "do_train(args)"
      ],
      "metadata": {
        "id": "Dm1VrqeavKYk",
        "colab": {
          "base_uri": "https://localhost:8080/"
        },
        "outputId": "a9fb0493-7fc8-4548-a458-39e35b4dda7d"
      },
      "execution_count": null,
      "outputs": [
        {
          "output_type": "stream",
          "name": "stdout",
          "text": [
            "[INFO] Preparando dataset de entrenamiento y validación.\n",
            "Found 60003 files belonging to 2 classes.\n",
            "[INFO] Creando el modelo.\n",
            "[INFO] Compilando el modelo.\n",
            "[INFO] Entrenando.\n",
            "Epoch 1/10\n",
            "\n",
            "Epoch 1: val_auc improved from -inf to 0.48866, saving model to /content/drive/MyDrive/00 VIU-Inteligencia Artificial/000 TFM 2025/03 TFM/Colab/output_v8/best_model.keras\n",
            "1876/1876 - 3932s - 2s/step - acc: 0.6711 - auc: 0.7498 - loss: 0.5841 - prec: 0.6302 - recall: 0.8284 - val_acc: 0.4897 - val_auc: 0.4887 - val_loss: 108.7958 - val_prec: 0.4946 - val_recall: 0.9503 - learning_rate: 1.0000e-04\n",
            "Epoch 2/10\n",
            "\n",
            "Epoch 2: val_auc improved from 0.48866 to 0.50988, saving model to /content/drive/MyDrive/00 VIU-Inteligencia Artificial/000 TFM 2025/03 TFM/Colab/output_v8/best_model.keras\n",
            "1876/1876 - 112s - 59ms/step - acc: 0.7117 - auc: 0.8014 - loss: 0.5293 - prec: 0.6597 - recall: 0.8743 - val_acc: 0.4887 - val_auc: 0.5099 - val_loss: 20.2545 - val_prec: 0.4935 - val_recall: 0.8583 - learning_rate: 1.0000e-04\n",
            "Epoch 3/10\n",
            "\n",
            "Epoch 3: val_auc did not improve from 0.50988\n",
            "1876/1876 - 113s - 60ms/step - acc: 0.7317 - auc: 0.8273 - loss: 0.5006 - prec: 0.6798 - recall: 0.8760 - val_acc: 0.4725 - val_auc: 0.4670 - val_loss: 33.9664 - val_prec: 0.4843 - val_recall: 0.8467 - learning_rate: 1.0000e-04\n",
            "Epoch 4/10\n",
            "\n",
            "Epoch 4: val_auc did not improve from 0.50988\n",
            "1876/1876 - 108s - 58ms/step - acc: 0.7558 - auc: 0.8499 - loss: 0.4749 - prec: 0.7104 - recall: 0.8635 - val_acc: 0.4302 - val_auc: 0.4284 - val_loss: 62.9882 - val_prec: 0.4517 - val_recall: 0.6523 - learning_rate: 1.0000e-04\n",
            "Epoch 5/10\n",
            "\n",
            "Epoch 5: val_auc did not improve from 0.50988\n",
            "\n",
            "Epoch 5: ReduceLROnPlateau reducing learning rate to 4.999999873689376e-05.\n",
            "1876/1876 - 108s - 58ms/step - acc: 0.7775 - auc: 0.8612 - loss: 0.4581 - prec: 0.7557 - recall: 0.8201 - val_acc: 0.4352 - val_auc: 0.4329 - val_loss: 66.4531 - val_prec: 0.4412 - val_recall: 0.4863 - learning_rate: 1.0000e-04\n",
            "Epoch 6/10\n",
            "\n",
            "Epoch 6: val_auc did not improve from 0.50988\n",
            "1876/1876 - 108s - 58ms/step - acc: 0.7886 - auc: 0.8730 - loss: 0.4401 - prec: 0.7664 - recall: 0.8302 - val_acc: 0.4533 - val_auc: 0.4517 - val_loss: 114.5007 - val_prec: 0.4693 - val_recall: 0.7127 - learning_rate: 5.0000e-05\n",
            "Epoch 7/10\n",
            "\n",
            "Epoch 7: val_auc improved from 0.50988 to 0.56216, saving model to /content/drive/MyDrive/00 VIU-Inteligencia Artificial/000 TFM 2025/03 TFM/Colab/output_v8/best_model.keras\n",
            "1876/1876 - 109s - 58ms/step - acc: 0.7989 - auc: 0.8807 - loss: 0.4286 - prec: 0.7756 - recall: 0.8412 - val_acc: 0.5623 - val_auc: 0.5622 - val_loss: 54.3262 - val_prec: 0.5825 - val_recall: 0.4400 - learning_rate: 5.0000e-05\n",
            "Epoch 8/10\n",
            "\n",
            "Epoch 8: val_auc did not improve from 0.56216\n",
            "\n",
            "Epoch 8: ReduceLROnPlateau reducing learning rate to 2.499999936844688e-05.\n",
            "1876/1876 - 113s - 60ms/step - acc: 0.7995 - auc: 0.8836 - loss: 0.4241 - prec: 0.7779 - recall: 0.8383 - val_acc: 0.4700 - val_auc: 0.4689 - val_loss: 143.6709 - val_prec: 0.4801 - val_recall: 0.7237 - learning_rate: 5.0000e-05\n",
            "Epoch 9/10\n",
            "\n",
            "Epoch 9: val_auc did not improve from 0.56216\n",
            "1876/1876 - 109s - 58ms/step - acc: 0.8045 - auc: 0.8887 - loss: 0.4147 - prec: 0.7813 - recall: 0.8458 - val_acc: 0.4810 - val_auc: 0.4819 - val_loss: 139.8228 - val_prec: 0.4891 - val_recall: 0.8487 - learning_rate: 2.5000e-05\n",
            "Epoch 10/10\n",
            "\n",
            "Epoch 10: val_auc did not improve from 0.56216\n",
            "1876/1876 - 110s - 58ms/step - acc: 0.8117 - auc: 0.8932 - loss: 0.4081 - prec: 0.7885 - recall: 0.8519 - val_acc: 0.4720 - val_auc: 0.4696 - val_loss: 145.7640 - val_prec: 0.4815 - val_recall: 0.7300 - learning_rate: 2.5000e-05\n",
            "[OK] Entrenamiento listo. Mejor modelo: /content/drive/MyDrive/00 VIU-Inteligencia Artificial/000 TFM 2025/03 TFM/Colab/output_v8/best_model.keras. Último: /content/drive/MyDrive/00 VIU-Inteligencia Artificial/000 TFM 2025/03 TFM/Colab/output_v8/last_model.keras\n"
          ]
        },
        {
          "output_type": "execute_result",
          "data": {
            "text/plain": [
              "<keras.src.callbacks.history.History at 0x792e65547050>"
            ]
          },
          "metadata": {},
          "execution_count": 20
        }
      ]
    },
    {
      "cell_type": "code",
      "source": [
        "# Ejecución del cálculo de umbral\n",
        "\n",
        "args_umbral = argparse.Namespace(\n",
        "    data_dir=data_dir,\n",
        "    model_path=best_model,\n",
        "    output_dir=output_dir,\n",
        "    img_size=224,\n",
        "    batch_size=16)\n",
        "\n",
        "umbral_opt = do_ypred(args_umbral)"
      ],
      "metadata": {
        "colab": {
          "base_uri": "https://localhost:8080/",
          "height": 652
        },
        "id": "mBl4S8qMQic7",
        "outputId": "80ca726d-bdce-4826-9dd2-84a61cde1bf7"
      },
      "execution_count": null,
      "outputs": [
        {
          "output_type": "stream",
          "name": "stdout",
          "text": [
            "[INFO] Cargando modelo.\n",
            "[INFO] Preparando datos de cálculo de umbral.\n",
            "[INFO] Calculando umbral.\n",
            "[OK] Resultado:\n",
            "Mejor umbral: 0.29\n"
          ]
        },
        {
          "output_type": "display_data",
          "data": {
            "text/plain": [
              "<Figure size 800x600 with 1 Axes>"
            ],
            "image/png": "[encoded data removed]"
          },
          "metadata": {}
        }
      ]
    },
    {
      "cell_type": "code",
      "source": [
        "# Ejecución de la evaluación del modelo\n",
        "\n",
        "args_eval = argparse.Namespace(\n",
        "    data_dir=data_dir,\n",
        "    model_path=best_model,\n",
        "    output_dir=output_dir,\n",
        "    img_size=224,\n",
        "    batch_size=32,\n",
        "    gradcam_samples=40)\n",
        "\n",
        "do_eval(args_eval, umbral_opt)"
      ],
      "metadata": {
        "id": "TeT0cU0F04lK",
        "colab": {
          "base_uri": "https://localhost:8080/"
        },
        "outputId": "a6c451a0-25c6-4e9d-a4e8-e40dac5aa386"
      },
      "execution_count": null,
      "outputs": [
        {
          "output_type": "stream",
          "name": "stdout",
          "text": [
            "[INFO] Inicio de evaluación del modelo.\n",
            "[INFO] Cargando modelo.\n",
            "[INFO] Preparando datos.\n",
            "[INFO] Calculando predicciones.\n",
            "[INFO] Graficando.\n",
            "[OK] Resultados:\n",
            "Accuracy  = 0.6475\n",
            "Precision = 0.5931\n",
            "Recall    = 0.9400\n",
            "F1        = 0.7273\n",
            "AUC       = 0.7514\n",
            "[INFO] Generando Grad-CAM de algunas imágenes.\n",
            "[OK] Grad-CAM guardados en: /content/drive/MyDrive/00 VIU-Inteligencia Artificial/000 TFM 2025/03 TFM/Colab/output_v8/gradcam_samples (40 imágenes)\n"
          ]
        }
      ]
    }
  ]
}